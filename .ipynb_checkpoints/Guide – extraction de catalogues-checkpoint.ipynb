{
 "cells": [
  {
   "cell_type": "markdown",
   "id": "250eef12",
   "metadata": {},
   "source": [
    "# Guide : extraction de catalogues numérisés\n",
    "\n",
    "*Artl@s / IMAGO / Université de Genève*\n",
    "\n",
    "**Ce guide explique comment utiliser le programme \"extractionCatalogs\"**\n",
    "\n",
    "En partant d'images numérisées de catalogues d'exposition d'art (XIXe et XXe siècle), ce script (programme) nous permet de produire des tableurs (ou autres types de fichiers) structurant toutes leurs informations : auteurs, oeuvres, informations complémentaires (adresses, entités spatiales, descriptions, associations académiques, prix, etc.)."
   ]
  },
  {
   "cell_type": "code",
   "execution_count": null,
   "id": "a2fa67bf",
   "metadata": {},
   "outputs": [],
   "source": [
    "!python3 run.py tests_Esteban_input/PCP_1902/ tests_Esteban_output/ PCP_1902"
   ]
  },
  {
   "cell_type": "markdown",
   "id": "95013c13",
   "metadata": {
    "heading_collapsed": true
   },
   "source": [
    "## Installation"
   ]
  },
  {
   "cell_type": "markdown",
   "id": "0afa7bfe",
   "metadata": {
    "hidden": true
   },
   "source": [
    "### Commandes d'installation"
   ]
  },
  {
   "cell_type": "markdown",
   "id": "24c6c86b",
   "metadata": {
    "hidden": true
   },
   "source": [
    "### Commandes du script"
   ]
  },
  {
   "cell_type": "markdown",
   "id": "2d7eaa22",
   "metadata": {
    "hidden": true
   },
   "source": [
    "### utilisation du guide : Jupyter notebook"
   ]
  },
  {
   "cell_type": "markdown",
   "id": "b5f215f4",
   "metadata": {
    "heading_collapsed": true
   },
   "source": [
    "## Reconnaissance de caractères avec eScriptorium"
   ]
  },
  {
   "cell_type": "markdown",
   "id": "9bee6889",
   "metadata": {},
   "source": [
    "## Utiliser le script extractionCatalogs"
   ]
  },
  {
   "cell_type": "markdown",
   "id": "a05f909d",
   "metadata": {
    "heading_collapsed": true
   },
   "source": [
    "### input ALTO"
   ]
  },
  {
   "cell_type": "markdown",
   "id": "8925b3fd",
   "metadata": {
    "heading_collapsed": true
   },
   "source": [
    "### fonctionnement du script"
   ]
  },
  {
   "cell_type": "markdown",
   "id": "17d329a2",
   "metadata": {},
   "source": [
    "### output TEI"
   ]
  },
  {
   "cell_type": "markdown",
   "id": "fc53ec02",
   "metadata": {},
   "source": [
    "### Informations sur le terminal"
   ]
  },
  {
   "cell_type": "code",
   "execution_count": null,
   "id": "6aa615b9",
   "metadata": {
    "scrolled": false
   },
   "outputs": [],
   "source": [
    "!python3 run.py tests_Esteban_input/PCP_1902/ tests_Esteban_output/ PCP_1902"
   ]
  },
  {
   "cell_type": "markdown",
   "id": "adc38a85",
   "metadata": {
    "heading_collapsed": true
   },
   "source": [
    "## Interventions manuelles et gestion des erreurs"
   ]
  },
  {
   "cell_type": "markdown",
   "id": "766c4cce",
   "metadata": {
    "hidden": true
   },
   "source": [
    "### Adapter les regex"
   ]
  },
  {
   "cell_type": "markdown",
   "id": "009b6718",
   "metadata": {
    "hidden": true
   },
   "source": [
    "#### Regex de base"
   ]
  },
  {
   "cell_type": "code",
   "execution_count": null,
   "id": "968c002f",
   "metadata": {
    "hidden": true
   },
   "outputs": [],
   "source": []
  },
  {
   "cell_type": "markdown",
   "id": "7fad26e8",
   "metadata": {
    "hidden": true
   },
   "source": [
    "#### Regex Auteur "
   ]
  },
  {
   "cell_type": "code",
   "execution_count": 59,
   "id": "77850636",
   "metadata": {
    "hidden": true
   },
   "outputs": [
    {
     "name": "stdout",
     "output_type": "stream",
     "text": [
      "re.compile('^.*\\\\)[.]*|^[a-zé]{0,2}[ ]*[a-zé]{0,2}[ ]*[A-ZÉ]+[,]*[ ]*[a-zé]{0,2}[ ]*[a-zé]{0,2}[ ]*[A-ZÉ][a-zé]*[.]*|^[a-zé]{0,2}[ ]*[a-zé]{0,2}[ ]*[A-ZÉ]*[a-zé]*[.,]*[ ]*[a-zé]{0,2}[ ]*[a-zé]{0,2}[ ]*[A-ZÉ]*[)\n",
      "Nouvelle regex\n"
     ]
    }
   ],
   "source": [
    "from extractionCatalogs.variables.exemple import auteur_recuperation_regex\n",
    "\n",
    "print(auteur_recuperation_regex)\n",
    "\n",
    "exemple_ajout = \"extractionCatalogs/variables/exemple_ajouts.py\"\n",
    "auteur_recuperation_regex = \"Nouvelle regex\"\n",
    "print(auteur_recuperation_regex)\n",
    "\n",
    "with open(exemple, mode=\"a\") as f:\n",
    "    f.write(\"\\nauteur_recuperation_regex = '{}'\\n\".format(hola))\n",
    "        "
   ]
  },
  {
   "cell_type": "code",
   "execution_count": 61,
   "id": "1355291e",
   "metadata": {
    "hidden": true
   },
   "outputs": [
    {
     "name": "stdout",
     "output_type": "stream",
     "text": [
      "\n",
      "variable originale : \n",
      "re.compile('^.*\\\\)[.]*|^[a-zé]{0,2}[ ]*[a-zé]{0,2}[ ]*[A-ZÉ]+[,]*[ ]*[a-zé]{0,2}[ ]*[a-zé]{0,2}[ ]*[A-ZÉ][a-zé]*[.]*|^[a-zé]{0,2}[ ]*[a-zé]{0,2}[ ]*[A-ZÉ]*[a-zé]*[.,]*[ ]*[a-zé]{0,2}[ ]*[a-zé]{0,2}[ ]*[A-ZÉ]*[)\n",
      "\n",
      "nouvelle variable : \n",
      "Nouvelle regex\n"
     ]
    }
   ],
   "source": [
    "from extractionCatalogs.variables.exemple import auteur_recuperation_regex\n",
    "\n",
    "\n",
    "# ce print appelle la variable issue de \"import\"\n",
    "print(\"\\nvariable originale : \\n{}\".format(auteur_recuperation_regex))\n",
    "\n",
    "# on peut assigner une nouvelle valeur à la variable \"auteur_recuperation_regex\" :\n",
    "\n",
    "auteur_recuperation_regex = \"Nouvelle regex\"\n",
    "\n",
    "# le print suivant appelle la nouvelle variable, puisqu'elle a changé de contenu\n",
    "print(\"\\nnouvelle variable : \\n{}\".format(auteur_recuperation_regex))\n",
    "\n",
    "\n",
    "#=======================================================\n",
    "# le code suivant sert à ajouter la variable au fichier :\n",
    "exemple_ajout = \"extractionCatalogs/variables/exemple_ajouts.py\"\n",
    "with open(exemple_ajout, mode=\"a\") as f:\n",
    "    f.write(\"\\nauteur_recuperation_regex = '{}'\\n\".format(auteur_recuperation_regex))\n",
    "    "
   ]
  },
  {
   "cell_type": "markdown",
   "id": "10b6bdc4",
   "metadata": {
    "hidden": true
   },
   "source": [
    "#### Regex Oeuvre"
   ]
  },
  {
   "cell_type": "code",
   "execution_count": null,
   "id": "81300022",
   "metadata": {
    "hidden": true
   },
   "outputs": [],
   "source": [
    "oeuvre_recuperation_regex = re.compile(r'^[*]*\\d{1,4}[\\.][ ](Bis|bis)*[ ]*[—]|^[*]*\\d{1,4}[ ]*(Bis|bis)*[ ]*[\\.]|^[*]*\\d{1,4}[ ]*(Bis|bis)*[ ]*[—]|[*]*\\d{1,4}[ ]*[-]|[*]*\\d{1,4}[ ]*(Bis|bis)*[ ]*[–]')\n"
   ]
  },
  {
   "cell_type": "markdown",
   "id": "7501047b",
   "metadata": {
    "hidden": true
   },
   "source": [
    "#### Regex informations complémentaires"
   ]
  },
  {
   "cell_type": "code",
   "execution_count": null,
   "id": "f3d6f514",
   "metadata": {
    "hidden": true
   },
   "outputs": [],
   "source": [
    "limitation_auteur_infobio_regex = re.compile(r'(— .*)')\n",
    "# Regex : extrait le numero de l'oeuvre\n",
    "numero_regex = re.compile(r'^(\\S\\d{1,4}|\\d{1,4})')\n",
    "# Regex : premiers caractères d'une ligne entière à identifier\n",
    "ligne_secondaire_regex = re.compile(r'^([A-ZÉ]|[a-zé])')\n",
    "# Regex : informations complementaires\n",
    "info_comp_tiret_parenthese_regex = re.compile(r'—[ ]*.*|\\(.*\\)|[a-z]\\. .*')"
   ]
  },
  {
   "cell_type": "markdown",
   "id": "3631534f",
   "metadata": {
    "heading_collapsed": true,
    "hidden": true
   },
   "source": [
    "### Messages d'erreur et problemes.txt"
   ]
  },
  {
   "cell_type": "markdown",
   "id": "3bcb8e48",
   "metadata": {
    "hidden": true
   },
   "source": [
    "#### erreures antérieures au script : eScriptorium et input ALTO"
   ]
  },
  {
   "cell_type": "markdown",
   "id": "48ef97e3",
   "metadata": {
    "hidden": true
   },
   "source": [
    "- String directement dans mainZone au lieu d'avoir un textBlock : le script ne peux pas extraire le texte"
   ]
  },
  {
   "cell_type": "markdown",
   "id": "c6f87bf6",
   "metadata": {
    "hidden": true
   },
   "source": [
    "#### Entrées non extraites : entry et entryEnd"
   ]
  },
  {
   "cell_type": "markdown",
   "id": "e889c995",
   "metadata": {
    "hidden": true
   },
   "source": [
    "#### Auteurs non extraits"
   ]
  },
  {
   "cell_type": "markdown",
   "id": "d1660a29",
   "metadata": {
    "hidden": true
   },
   "source": [
    "#### Oeuvres non extraites"
   ]
  },
  {
   "cell_type": "markdown",
   "id": "b69ac4d5",
   "metadata": {
    "hidden": true
   },
   "source": [
    "#### Informations complémentaires non extraites"
   ]
  },
  {
   "cell_type": "markdown",
   "id": "9d9b1738",
   "metadata": {
    "heading_collapsed": true
   },
   "source": [
    "## Produire un tableur csv"
   ]
  }
 ],
 "metadata": {
  "kernelspec": {
   "display_name": "Python 3 (ipykernel)",
   "language": "python",
   "name": "python3"
  },
  "language_info": {
   "codemirror_mode": {
    "name": "ipython",
    "version": 3
   },
   "file_extension": ".py",
   "mimetype": "text/x-python",
   "name": "python",
   "nbconvert_exporter": "python",
   "pygments_lexer": "ipython3",
   "version": "3.9.12"
  },
  "toc": {
   "base_numbering": "0",
   "nav_menu": {},
   "number_sections": true,
   "sideBar": true,
   "skip_h1_title": true,
   "title_cell": "Table des matières",
   "title_sidebar": "Table des matières",
   "toc_cell": false,
   "toc_position": {},
   "toc_section_display": true,
   "toc_window_display": true
  }
 },
 "nbformat": 4,
 "nbformat_minor": 5
}
